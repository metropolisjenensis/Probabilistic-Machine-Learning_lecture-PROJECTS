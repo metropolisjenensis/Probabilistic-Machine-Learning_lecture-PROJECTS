{
 "cells": [
  {
   "cell_type": "markdown",
   "id": "bb92c40f",
   "metadata": {},
   "source": [
    "# COMMENTS:\n",
    "\n",
    "[23.Mai.2025] Please start exploring your dataset(s), provide a general description of it: Spurce of the data and its general meaning and contents, number of samples, number of features, etc., and then provide a summary of the data types and missing values.\n",
    "  You can already include that progress of cleaning the data and its description in the report. "
   ]
  },
  {
   "cell_type": "markdown",
   "id": "edfdb98d",
   "metadata": {},
   "source": [
    "[06.Jun.2025] Now that you have some details on the exploration and description of the dataset, summarize those results in a clear and concise manner in the report file. "
   ]
  },
  {
   "cell_type": "markdown",
   "id": "053bc1e2",
   "metadata": {},
   "source": [
    "[29.Jun.2025] I can see you are trying to discover clusters using K-Means. To mekae your report more complete and fulfill the aim of the course, I will require you to compare the results of K-Means with Gaussian Mixture Models (GMM) that are explicitly probabilistic and generalize K-Means. \n",
    "\n",
    "Regarding your commment on the repo (I also answered there): \n",
    "\n",
    "\"I would like to use a Bayesian Network as my final model. Afterwards, I plan to evaluate all models and extract informative insights about the data and its structure – for example, identifying which combinations of features are most likely to lead to a specific income level. Do you think this would be a good idea for the final project?\"\n",
    "\n",
    "You need to explain why you want to use a Bayesian network, and how. What is your hypothesis? What is your main goal? I can guess that what you want is to use the Bayesian network to model the relationships between features and income levels, but then you need to state all that in a clear way in the report.\n",
    "\n",
    "As a final comment, please make a report file, because commenting on the notebooks is not the best way to present your work. It is a good practice to have a report file that summarizes your motivations, explorations, computations, findings, and conclusions. \n",
    "\n"
   ]
  },
  {
   "cell_type": "markdown",
   "id": "551ab511",
   "metadata": {},
   "source": []
  },
  {
   "cell_type": "markdown",
   "id": "fe614eaf",
   "metadata": {},
   "source": []
  }
 ],
 "metadata": {
  "language_info": {
   "name": "python"
  }
 },
 "nbformat": 4,
 "nbformat_minor": 5
}
