{
 "cells": [
  {
   "cell_type": "markdown",
   "id": "bb92c40f",
   "metadata": {},
   "source": [
    "# COMMENTS:\n",
    "\n",
    "[23.Mai.2025] Please start exploring your dataset(s), provide a general description of it: Spurce of the data and its general meaning and contents, number of samples, number of features, etc., and then provide a summary of the data types and missing values.\n",
    "  You can already include that progress of cleaning the data and its description in the report. "
   ]
  },
  {
   "cell_type": "markdown",
   "id": "edfdb98d",
   "metadata": {},
   "source": [
    "[29.Jun.2025] I can see from the last plot that your LSTM model apparently is performing amazingly well. \n",
    "\n",
    "Hoewever, there is no explanatory text in the report that clarifies what you are doing, what is the structure of the problem itself. For instance, you do not explain why you focus your predictions only on the Close price, when there are other features such as Open, High, Low, Volume, etc.?. There is a lack of explanation of the problem itself, and the approach you are taking to solve it. \n",
    "\n",
    "Additionally, you do not explain the structure of the LSTM model, and how it is trained. What is the loss function, what is the optimizer, how many epochs, etc.?. \n",
    "I can read most of that in the code, but it is not clear in the report, and you need to report these details in the real world, either in research or in industry.\n",
    "\n",
    "\n",
    "Therefore, please complete the task of explaining the problem, the approach you are taking, the structure of the LSTM model you are using and also include a discussion of the results, what do they mean, how do they compare to other approaches, etc.?.\n"
   ]
  },
  {
   "cell_type": "markdown",
   "id": "d60678d7",
   "metadata": {},
   "source": []
  }
 ],
 "metadata": {
  "language_info": {
   "name": "python"
  }
 },
 "nbformat": 4,
 "nbformat_minor": 5
}
